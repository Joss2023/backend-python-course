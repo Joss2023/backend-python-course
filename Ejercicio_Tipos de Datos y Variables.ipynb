{
 "cells": [
  {
   "cell_type": "markdown",
   "id": "ef182b36",
   "metadata": {},
   "source": [
    "# Modulo 3"
   ]
  },
  {
   "cell_type": "markdown",
   "id": "83cfc1f5",
   "metadata": {},
   "source": [
    "#### \n",
    "1) Crea un Jupyter Notebook para el ejercicio y escribe un programa pidiéndole al usuario que seleccione una operación (suma, resta, multiplicación, división y potencia) y que ingrese 2 números para aplicarles esa operación. No te olvides que puedes usar la función input para obtener varios valores de entrada. Posteriormente imprime los valores de entrada, la operación solicitada y el resultado de la operación. Recuerda que tienes puntos extra si aceptas valores binarios, octales y hexadecimales como entrada. 2)  \n",
    "\n",
    "2) Añade este Jupyter Notebook a tu repositorio de Github con el nombre “Ejercicio – Tipos de Datos y Variables”. \n",
    "\n",
    "3) En un archivo de Word pon el link a tu repositorio y copia y pega el código que creaste en tu Jupyter Notebook.\n"
   ]
  },
  {
   "cell_type": "code",
   "execution_count": 7,
   "id": "bf6e97f5",
   "metadata": {},
   "outputs": [
    {
     "name": "stdout",
     "output_type": "stream",
     "text": [
      "1. Suma\n",
      "2. Resta\n",
      "3. Multiplicación\n",
      "4. División\n",
      "5. Potencia\n",
      "\n",
      "Elige una operación: 4\n",
      "Ingresa numero1: 0x5645454\n",
      "Ingresa numero2: 0x4545\n",
      "\n",
      "Número 1 en decimal:  90461268\n",
      "Número 2 en decimal:  17733 \n",
      "\n",
      "El resultado de la división es:  5101.295212316021\n"
     ]
    }
   ],
   "source": [
    "# Definir las funcinoes de las operaciones\n",
    "def suma():\n",
    "    resultado=n1+n2\n",
    "    print(\"El resultado de la suma es: \", resultado)\n",
    "    \n",
    "def resta():\n",
    "    resultado=n1-n2\n",
    "    print(\"El resultado de la resta es: \", resultado)\n",
    "        \n",
    "def multipli():\n",
    "    resultado=n1*n2\n",
    "    print(\"El resultado de la multiplicación es: \", resultado)\n",
    "\n",
    "def division():\n",
    "    resultado=n1/n2\n",
    "    print(\"El resultado de la división es: \", resultado)\n",
    "\n",
    "def potencia():\n",
    "    resultado=n1**n2\n",
    "    print(\"El resultado de la potencia es: \", resultado)\n",
    "    \n",
    "# Menu de la Calculadora\n",
    "opcion=int(input(\"\"\"1. Suma\n",
    "2. Resta\n",
    "3. Multiplicación\n",
    "4. División\n",
    "5. Potencia\\n\n",
    "Elige una operación: \"\"\"))\n",
    "\n",
    "num1 = input(\"Ingresa numero1: \")\n",
    "num2 = input(\"Ingresa numero2: \")\n",
    "\n",
    "#Validar en que base esta el número y convertirlo a decimal\n",
    "if (num1[1]=='b'):\n",
    "    n1 = int(num1, 2)\n",
    "elif (num1[1]=='o'):\n",
    "    n1 = int(num1, 8)\n",
    "elif (num1[1]=='x'):\n",
    "    n1 = int(num1, 16)\n",
    "else:\n",
    "    n1 = int(num1)\n",
    "    \n",
    "if (num2[1]=='b'):\n",
    "    n2 = int(num2, 2)\n",
    "elif (num1[1]=='o'):\n",
    "    n2 = int(num2, 8)\n",
    "elif (num1[1]=='x'):\n",
    "    n2 = int(num2, 16)\n",
    "else:\n",
    "    n2 = int(num2)\n",
    "\n",
    "#Mostramos los números ingresados en base 10\n",
    "\n",
    "print(\"\\nNúmero 1 en decimal: \", n1)\n",
    "print(\"Número 2 en decimal: \", n2, \"\\n\")\n",
    "\n",
    "# Validar que opcion selleccionó el usuario y mandar llamar la función\n",
    "if opcion == 1:\n",
    "    suma()\n",
    "elif opcion == 2:\n",
    "    resta()\n",
    "elif opcion == 3:\n",
    "    multipli()\n",
    "elif opcion == 4:\n",
    "    division()\n",
    "elif opcion == 5:\n",
    "    potencia()\n",
    "    \n",
    "\n",
    "\n",
    "    "
   ]
  },
  {
   "cell_type": "code",
   "execution_count": null,
   "id": "cad7bcc1",
   "metadata": {},
   "outputs": [],
   "source": []
  }
 ],
 "metadata": {
  "kernelspec": {
   "display_name": "Python 3 (ipykernel)",
   "language": "python",
   "name": "python3"
  },
  "language_info": {
   "codemirror_mode": {
    "name": "ipython",
    "version": 3
   },
   "file_extension": ".py",
   "mimetype": "text/x-python",
   "name": "python",
   "nbconvert_exporter": "python",
   "pygments_lexer": "ipython3",
   "version": "3.10.9"
  }
 },
 "nbformat": 4,
 "nbformat_minor": 5
}
