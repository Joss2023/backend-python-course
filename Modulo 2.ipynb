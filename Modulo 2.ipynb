{
 "cells": [
  {
   "cell_type": "markdown",
   "id": "57967584",
   "metadata": {},
   "source": [
    "## Modulo 2"
   ]
  },
  {
   "cell_type": "code",
   "execution_count": 1,
   "id": "1b64b887",
   "metadata": {},
   "outputs": [],
   "source": [
    "    #El objetivo de esta actividad es que escribas un programa en un Jupyter \n",
    "    #Notebook pidiéndole al usuario un entero, un float y una cadena"
   ]
  },
  {
   "cell_type": "code",
   "execution_count": 2,
   "id": "25911d1f",
   "metadata": {},
   "outputs": [
    {
     "name": "stdout",
     "output_type": "stream",
     "text": [
      "Ingresa un numero entero: 9547\n",
      "Numero ingresado:  9547\n",
      "Tipo de dato:  <class 'int'>\n"
     ]
    }
   ],
   "source": [
    "#Entero\n",
    "entero = int(input(\"Ingresa un numero entero: \"))\n",
    "print(\"Numero ingresado: \", entero)\n",
    "print(\"Tipo de dato: \", type(entero))"
   ]
  },
  {
   "cell_type": "code",
   "execution_count": 3,
   "id": "738c237e",
   "metadata": {},
   "outputs": [
    {
     "name": "stdout",
     "output_type": "stream",
     "text": [
      "Ingresa un numero flotante: 9547\n",
      "Numero ingresado:  9547.0\n",
      "Tipo de dato:  <class 'float'>\n"
     ]
    }
   ],
   "source": [
    "#Fotante\n",
    "flotante = float(input(\"Ingresa un numero flotante: \"))\n",
    "print(\"Numero ingresado: \", flotante)\n",
    "print(\"Tipo de dato: \", type(flotante))"
   ]
  },
  {
   "cell_type": "code",
   "execution_count": 4,
   "id": "97103679",
   "metadata": {},
   "outputs": [
    {
     "name": "stdout",
     "output_type": "stream",
     "text": [
      "Ingresa un numero entero: 9547\n",
      "Numero ingresado:  9547\n",
      "Tipo de dato:  <class 'str'>\n"
     ]
    }
   ],
   "source": [
    "#cadena\n",
    "cadena = input(\"Ingresa un numero entero: \")\n",
    "print(\"Numero ingresado: \", cadena)\n",
    "print(\"Tipo de dato: \", type(cadena))"
   ]
  }
 ],
 "metadata": {
  "kernelspec": {
   "display_name": "Python 3 (ipykernel)",
   "language": "python",
   "name": "python3"
  },
  "language_info": {
   "codemirror_mode": {
    "name": "ipython",
    "version": 3
   },
   "file_extension": ".py",
   "mimetype": "text/x-python",
   "name": "python",
   "nbconvert_exporter": "python",
   "pygments_lexer": "ipython3",
   "version": "3.10.9"
  }
 },
 "nbformat": 4,
 "nbformat_minor": 5
}
